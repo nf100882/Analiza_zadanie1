{
 "cells": [
  {
   "cell_type": "code",
   "execution_count": 4,
   "id": "16929046-14aa-474d-9d30-0b5ddca01860",
   "metadata": {},
   "outputs": [
    {
     "name": "stdout",
     "output_type": "stream",
     "text": [
      "Overwriting app.py\n"
     ]
    }
   ],
   "source": [
    "%%file app.py\n",
    "from flask import Flask, request, jsonify\n",
    "\n",
    "app = Flask(__name__)\n",
    "\n",
    "@app.route('/api/v1.0/predict', methods=['GET'])\n",
    "def predict():\n",
    "    # Pobranie wartości z query string (domyślnie 0, jeśli brak)\n",
    "    try:\n",
    "        num1 = float(request.args.get('num1', 0))\n",
    "        num2 = float(request.args.get('num2', 0))\n",
    "    except ValueError:\n",
    "        return jsonify({\"error\": \"Wartości muszą być liczbami.\"}), 400\n",
    "\n",
    "    # Reguła decyzyjna\n",
    "    sum_value = num1 + num2\n",
    "    prediction = 1 if sum_value > 5.8 else 0\n",
    "\n",
    "    # Przygotowanie odpowiedzi\n",
    "    response = {\n",
    "        \"prediction\": prediction,\n",
    "        \"features\": {\n",
    "            \"num1\": num1,\n",
    "            \"num2\": num2,\n",
    "            \"sum\": sum_value\n",
    "        }\n",
    "    }\n",
    "\n",
    "    return jsonify(response)\n",
    "\n",
    "if __name__ == '__main__':\n",
    "    app.run(debug=True)"
   ]
  },
  {
   "cell_type": "code",
   "execution_count": 6,
   "id": "c764a736-bdc9-4af7-b0df-16329a97bdf7",
   "metadata": {},
   "outputs": [
    {
     "name": "stdout",
     "output_type": "stream",
     "text": [
      "{'features': {'num1': 1.0, 'num2': 1.0, 'sum': 2.0}, 'prediction': 0}\n"
     ]
    }
   ],
   "source": [
    "import requests\n",
    "res = requests.get(\"http://127.0.0.1:5000/api/v1.0/predict?num1=1&num2=1\")\n",
    "print(res.json())"
   ]
  }
 ],
 "metadata": {
  "kernelspec": {
   "display_name": "Python 3 (ipykernel)",
   "language": "python",
   "name": "python3"
  },
  "language_info": {
   "codemirror_mode": {
    "name": "ipython",
    "version": 3
   },
   "file_extension": ".py",
   "mimetype": "text/x-python",
   "name": "python",
   "nbconvert_exporter": "python",
   "pygments_lexer": "ipython3",
   "version": "3.11.6"
  }
 },
 "nbformat": 4,
 "nbformat_minor": 5
}
